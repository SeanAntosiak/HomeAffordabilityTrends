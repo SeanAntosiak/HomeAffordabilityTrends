{
 "cells": [
  {
   "cell_type": "code",
   "execution_count": 1,
   "metadata": {},
   "outputs": [],
   "source": [
    "import pandas as pd\n",
    "import numpy as np\n",
    "import streamlit as st\n",
    "import plotly.express as px"
   ]
  },
  {
   "cell_type": "code",
   "execution_count": 2,
   "metadata": {},
   "outputs": [],
   "source": [
    "# importing datasets\n",
    "MHP = pd.read_csv('data/MedHome.csv')\n",
    "MorRate = pd.read_csv('data/MorRate.csv')\n",
    "MedIncome = pd.read_csv('data/MedIncome.csv')\n",
    "\n",
    "# converting date to datetime\n",
    "MHP['DATE'] = pd.to_datetime(MHP['DATE'])\n",
    "# creates a new column that gives the year for each row\n",
    "MHP['year'] = MHP['DATE'].dt.year\n",
    "# Recreates the dataset averating all the given values in the year \n",
    "del MHP['DATE']\n",
    "MHP_Yearly = MHP.groupby('year')['MSPUS'].mean().reset_index()\n",
    "\n",
    "\n",
    "#doing same for other dataframes\n",
    "MorRate['date'] = pd.to_datetime(MorRate['date'])\n",
    "MorRate['year'] = MorRate['date'].dt.year\n",
    "del MorRate['date']\n",
    "MorRate_Yearly = MorRate.groupby('year')[' value'].mean().reset_index()\n",
    "\n",
    "MedIncome['DATE'] = pd.to_datetime(MedIncome['DATE'])\n",
    "MedIncome['year'] = MedIncome['DATE'].dt.year\n",
    "del MedIncome['DATE']\n",
    "MedIncome_Yearly = MedIncome.groupby('year')['MEPAINUSA646N'].mean().reset_index()\n",
    "\n",
    "# renames the values fields so dataframes can be merged\n",
    "MorRate_Yearly.rename(columns={' value' : 'Mortgage Rate'}, inplace=1)\n",
    "MHP_Yearly.rename(columns={'MSPUS': 'Median Home Price'}, inplace=1)\n",
    "MedIncome_Yearly.rename(columns={'MEPAINUSA646N': 'Median Personal Income'}, inplace=1)\n",
    "\n",
    "# creating dataframe MYA for 'merged yearly averages'\n",
    "MYA = pd.merge(pd.merge(MedIncome_Yearly, MHP_Yearly, on='year'), MorRate_Yearly, on='year')"
   ]
  },
  {
   "cell_type": "code",
   "execution_count": 3,
   "metadata": {},
   "outputs": [],
   "source": [
    "# creating a function to estimate mortgage payments on the median house using avewrage interest rate\n",
    "def MorPayment(principal, Rate):\n",
    "    #getting monthly rate in correct format\n",
    "    MR = Rate/12/100\n",
    "    return(principal*MR*((1+MR)**360) / ((1+MR)**(360)-1))"
   ]
  },
  {
   "cell_type": "code",
   "execution_count": 15,
   "metadata": {},
   "outputs": [],
   "source": [
    "# creating the dataframe that has values to be displayed in the app\n",
    "\n",
    "DF = pd.DataFrame()\n",
    "DF['Year'] = MYA['year']\n",
    "DF['Median Personal Income'] = MYA['Median Personal Income']\n",
    "DF['Median Home Price'] = MYA['Median Home Price']\n",
    "DF['Home Price/Income Ratio'] = MYA['Median Home Price']/MYA['Median Personal Income'] # column showing how many years of median income it would take to equal the median house value\n",
    "DF['Monthly Gross Income'] = MYA['Median Personal Income']/12\n",
    "DF['Average Mortgage Rate'] = MYA['Mortgage Rate']\n",
    "DF['30YR Mortgage Payment'] = MorPayment(MYA['Median Home Price'], MYA['Mortgage Rate']) # column showing mortgage payments using that years average mortgage rate and median home price (assuming no down payment)\n",
    "DF['Mortgage/Income Ratio'] = DF['30YR Mortgage Payment']/DF['Monthly Gross Income'] # creates a column showing the percentage of monthly income it would take to cover a mortgage payment\n",
    "\n"
   ]
  },
  {
   "cell_type": "code",
   "execution_count": 16,
   "metadata": {},
   "outputs": [],
   "source": [
    "# creating a csv to use in app \n",
    "\n",
    "DF.to_csv('data/CleanData.csv', index=0)"
   ]
  }
 ],
 "metadata": {
  "kernelspec": {
   "display_name": "Python 3",
   "language": "python",
   "name": "python3"
  },
  "language_info": {
   "codemirror_mode": {
    "name": "ipython",
    "version": 3
   },
   "file_extension": ".py",
   "mimetype": "text/x-python",
   "name": "python",
   "nbconvert_exporter": "python",
   "pygments_lexer": "ipython3",
   "version": "3.9.13"
  },
  "orig_nbformat": 4
 },
 "nbformat": 4,
 "nbformat_minor": 2
}
